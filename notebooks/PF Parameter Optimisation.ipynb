{
 "cells": [
  {
   "cell_type": "code",
   "execution_count": null,
   "id": "occupational-witch",
   "metadata": {},
   "outputs": [],
   "source": [
    "# exploring options to optimise particle filter params\n",
    "# by optimising for accuracy over gazebo log"
   ]
  },
  {
   "cell_type": "code",
   "execution_count": 1,
   "id": "registered-chorus",
   "metadata": {},
   "outputs": [],
   "source": [
    "import pandas as pd\n",
    "import numpy as np\n",
    "from cbl_particle_filter.filter import load_input_log\n",
    "from cbl_particle_filter.carpet_map import load_map_from_png\n",
    "from cbl_particle_filter.filter import Pose, CarpetBasedParticleFilter, offline_playback"
   ]
  },
  {
   "cell_type": "code",
   "execution_count": 2,
   "id": "activated-abuse",
   "metadata": {},
   "outputs": [],
   "source": [
    "log_file = \"/home/tfanselo/projects/20210112_carpet_localisation/logs/pf_tuning_log_gazebo_20210325/localiser_input_log.pickle\"\n",
    "map_png = \"/home/tfanselo/projects/20210112_carpet_localisation/logs/pf_tuning_log_gazebo_20210325/office_map.png\"\n",
    "# start pose from /home/tfanselo/projects/20210112_carpet_localisation/logs/pf_tuning_log_gazebo_20210325/start_pose.txt\n",
    "start_pose = Pose(x=6.5, y=3.5, heading=1.5707)"
   ]
  },
  {
   "cell_type": "code",
   "execution_count": 3,
   "id": "understanding-median",
   "metadata": {},
   "outputs": [],
   "source": [
    "carpet = load_map_from_png(map_png, cell_size=0.5)"
   ]
  },
  {
   "cell_type": "code",
   "execution_count": 4,
   "id": "incomplete-bhutan",
   "metadata": {},
   "outputs": [],
   "source": [
    "log = load_input_log(log_file)"
   ]
  },
  {
   "cell_type": "code",
   "execution_count": 13,
   "id": "right-nightmare",
   "metadata": {},
   "outputs": [],
   "source": [
    "def get_playback_error(\n",
    "    log,\n",
    "    carpet_map,\n",
    "    seed_pose,\n",
    "    resample_proportion,\n",
    "    weight_fn_p,\n",
    "    odom_pos_noise,\n",
    "    odom_heading_noise,\n",
    "    n_particles,\n",
    "    ):\n",
    "    \"\"\"\n",
    "    Report sum squared position error for playback of the given log\n",
    "    \"\"\"\n",
    "    \n",
    "    np.random.seed(123)\n",
    "    \n",
    "    localised_poses = offline_playback(\n",
    "        input_data = log,\n",
    "        carpet = carpet,\n",
    "        seed_pose = seed_pose,\n",
    "        resample_proportion = resample_proportion,\n",
    "        weight_fn_p=weight_fn_p,\n",
    "        odom_pos_noise=odom_pos_noise,\n",
    "        odom_heading_noise=odom_heading_noise,\n",
    "        n_particles = n_particles,\n",
    "    )\n",
    "    \n",
    "    \n",
    "    # convert results to dataframe\n",
    "    ground_truth_poses = [gt_pose for _, _, gt_pose in log]\n",
    "\n",
    "    df_data = []\n",
    "    for ground_truth_pose, localised_pose in zip(ground_truth_poses, localised_poses):\n",
    "        df_data.append({\n",
    "            \"gt_x\":ground_truth_pose.x,\n",
    "            \"gt_y\":ground_truth_pose.y,\n",
    "            \"loc_x\":localised_pose.x,\n",
    "            \"loc_y\":localised_pose.y,\n",
    "        })\n",
    "    results_df = pd.DataFrame(df_data)\n",
    "    position_errors = np.linalg.norm(np.vstack([results_df.loc_x - results_df.gt_x, results_df.loc_y - results_df.gt_y]),axis=0)\n",
    "    sum_squared_error = sum(np.power(position_errors,2))\n",
    "\n",
    "    return sum_squared_error"
   ]
  },
  {
   "cell_type": "code",
   "execution_count": 14,
   "id": "southern-problem",
   "metadata": {},
   "outputs": [
    {
     "data": {
      "text/plain": [
       "193.7813767519584"
      ]
     },
     "execution_count": 14,
     "metadata": {},
     "output_type": "execute_result"
    }
   ],
   "source": [
    "get_playback_error(\n",
    "    log,\n",
    "    carpet,\n",
    "    seed_pose=start_pose,\n",
    "    resample_proportion=0,\n",
    "    weight_fn_p=0.9,\n",
    "    odom_pos_noise=0.05,\n",
    "    odom_heading_noise=0.05,\n",
    "    n_particles=500\n",
    ")"
   ]
  },
  {
   "cell_type": "code",
   "execution_count": 15,
   "id": "vocal-piano",
   "metadata": {},
   "outputs": [
    {
     "data": {
      "text/plain": [
       "358.27592729730634"
      ]
     },
     "execution_count": 15,
     "metadata": {},
     "output_type": "execute_result"
    }
   ],
   "source": [
    "get_playback_error(\n",
    "    log,\n",
    "    carpet,\n",
    "    seed_pose=start_pose,\n",
    "    resample_proportion=0,\n",
    "    weight_fn_p=0.9,\n",
    "    odom_pos_noise=0.1,\n",
    "    odom_heading_noise=0.05,\n",
    "    n_particles=500\n",
    ")"
   ]
  },
  {
   "cell_type": "code",
   "execution_count": 17,
   "id": "respective-effect",
   "metadata": {},
   "outputs": [
    {
     "data": {
      "text/plain": [
       "146.5992221213095"
      ]
     },
     "execution_count": 17,
     "metadata": {},
     "output_type": "execute_result"
    }
   ],
   "source": [
    "get_playback_error(\n",
    "    log,\n",
    "    carpet,\n",
    "    seed_pose=start_pose,\n",
    "    resample_proportion=0,\n",
    "    weight_fn_p=0.9,\n",
    "    odom_pos_noise=0.01,\n",
    "    odom_heading_noise=0.05,\n",
    "    n_particles=500\n",
    ")"
   ]
  },
  {
   "cell_type": "code",
   "execution_count": 18,
   "id": "secure-devon",
   "metadata": {},
   "outputs": [
    {
     "data": {
      "text/plain": [
       "209.74316987275472"
      ]
     },
     "execution_count": 18,
     "metadata": {},
     "output_type": "execute_result"
    }
   ],
   "source": [
    "get_playback_error(\n",
    "    log,\n",
    "    carpet,\n",
    "    seed_pose=start_pose,\n",
    "    resample_proportion=0,\n",
    "    weight_fn_p=0.9,\n",
    "    odom_pos_noise=0.0,\n",
    "    odom_heading_noise=0.05,\n",
    "    n_particles=500\n",
    ")"
   ]
  }
 ],
 "metadata": {
  "kernelspec": {
   "display_name": "Python 3",
   "language": "python",
   "name": "python3"
  },
  "language_info": {
   "codemirror_mode": {
    "name": "ipython",
    "version": 3
   },
   "file_extension": ".py",
   "mimetype": "text/x-python",
   "name": "python",
   "nbconvert_exporter": "python",
   "pygments_lexer": "ipython3",
   "version": "3.8.5"
  }
 },
 "nbformat": 4,
 "nbformat_minor": 5
}
